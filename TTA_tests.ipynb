{
  "nbformat": 4,
  "nbformat_minor": 0,
  "metadata": {
    "interpreter": {
      "hash": "4aff80f13d420f8834dda20f29000f5807e59af9bd25d8f3796ccae27fb7ddc2"
    },
    "kernelspec": {
      "display_name": "Python 3.8.10 64-bit (windows store)",
      "language": "python",
      "name": "python3"
    },
    "language_info": {
      "codemirror_mode": {
        "name": "ipython",
        "version": 3
      },
      "file_extension": ".py",
      "mimetype": "text/x-python",
      "name": "python",
      "nbconvert_exporter": "python",
      "pygments_lexer": "ipython3",
      "version": "3.8.10"
    },
    "orig_nbformat": 4,
    "colab": {
      "name": "TTA-tests.ipynb",
      "provenance": [],
      "collapsed_sections": []
    }
  },
  "cells": [
    {
      "cell_type": "markdown",
      "metadata": {
        "id": "lzvp3yKTVyXf"
      },
      "source": [
        "### Connect to drive\n",
        "The dataset used for tests can be found [here](https://drive.google.com/drive/folders/1SZvBAe8-LApl8PAbEm2lGIhA6CPQX0CV?usp=sharing)"
      ]
    },
    {
      "cell_type": "code",
      "metadata": {
        "colab": {
          "base_uri": "https://localhost:8080/"
        },
        "id": "ucnnVKuKVA66",
        "outputId": "ec531430-1cdf-448f-df5c-4a3dae98e9b4"
      },
      "source": [
        "from google.colab import drive\n",
        "drive.mount('/gdrive')"
      ],
      "execution_count": null,
      "outputs": [
        {
          "output_type": "stream",
          "name": "stdout",
          "text": [
            "Mounted at /gdrive\n"
          ]
        }
      ]
    },
    {
      "cell_type": "code",
      "metadata": {
        "colab": {
          "base_uri": "https://localhost:8080/"
        },
        "id": "UzFoELjdVEx2",
        "outputId": "83a47be1-083a-4962-c04a-28ff0079e33c"
      },
      "source": [
        "%cd /gdrive/My Drive/ANNaDL/TTA-tests"
      ],
      "execution_count": null,
      "outputs": [
        {
          "output_type": "stream",
          "name": "stdout",
          "text": [
            "/gdrive/My Drive/ANNaDL/TTA-tests\n"
          ]
        }
      ]
    },
    {
      "cell_type": "markdown",
      "metadata": {
        "id": "oLMleAyZ_tA7"
      },
      "source": [
        "### Import libraries"
      ]
    },
    {
      "cell_type": "code",
      "metadata": {
        "id": "2-3ixkiE_tA_"
      },
      "source": [
        "import tensorflow as tf\n",
        "import numpy as np\n",
        "from tensorflow.keras.applications.vgg16 import preprocess_input\n",
        "from tensorflow.keras.preprocessing.image import ImageDataGenerator\n",
        "\n",
        "tfk = tf.keras\n",
        "tfkl = tf.keras.layers"
      ],
      "execution_count": null,
      "outputs": []
    },
    {
      "cell_type": "markdown",
      "metadata": {
        "id": "FqHUR9QL_tBB"
      },
      "source": [
        "### Load data"
      ]
    },
    {
      "cell_type": "code",
      "metadata": {
        "id": "CVIF3ctP_tBD"
      },
      "source": [
        "filepath='.'\n",
        "model = tfk.models.load_model(filepath)"
      ],
      "execution_count": null,
      "outputs": []
    },
    {
      "cell_type": "code",
      "metadata": {
        "id": "vHYkF-Wi_tBE"
      },
      "source": [
        "def Directory_Iterator_to_Numpy(dir_it):\n",
        "    X_data = dir_it[0][0]\n",
        "    y_data = dir_it[0][1]\n",
        "\n",
        "    for i in range(1, len(dir_it)):\n",
        "        X_data=np.concatenate((X_data, dir_it[i][0]))\n",
        "        y_data=np.concatenate((y_data,dir_it[i][1]))\n",
        "\n",
        "    return X_data, y_data    "
      ],
      "execution_count": null,
      "outputs": []
    },
    {
      "cell_type": "code",
      "metadata": {
        "colab": {
          "base_uri": "https://localhost:8080/"
        },
        "id": "GnzaeEe7_tBE",
        "outputId": "994a17c1-0d31-464b-b981-2084d0f963b6"
      },
      "source": [
        "labels = ['Apple','Blueberry','Cherry','Corn','Grape','Orange','Peach','Pepper','Potato','Raspberry','Soybean','Squash','Strawberry','Tomato']\n",
        "datagen = ImageDataGenerator()\n",
        "dataset_dir='real_set'\n",
        "test_gen = datagen.flow_from_directory(\n",
        "        dataset_dir,\n",
        "        color_mode=\"rgb\",\n",
        "        shuffle = False)\n",
        "\n",
        "X_test, y_test = Directory_Iterator_to_Numpy(test_gen)"
      ],
      "execution_count": null,
      "outputs": [
        {
          "output_type": "stream",
          "name": "stdout",
          "text": [
            "Found 70 images belonging to 14 classes.\n"
          ]
        }
      ]
    },
    {
      "cell_type": "markdown",
      "metadata": {
        "id": "N5srpPW1BxCE"
      },
      "source": [
        "### Evaluate accuracy of the model with TTA\n",
        "Modified version of functions found [here](https://machinelearningmastery.com/how-to-use-test-time-augmentation-to-improve-model-performance-for-image-classification/)"
      ]
    },
    {
      "cell_type": "code",
      "metadata": {
        "id": "-g-aBswF_tBH"
      },
      "source": [
        "def tta_prediction(datagen, model, image, n_examples):\n",
        "\t# convert image into dataset\n",
        "\tsamples = np.expand_dims(image, 0)\n",
        "\t# prepare iterator\n",
        "\tit = datagen.flow(samples)\n",
        "\t# make predictions for each augmented image\n",
        "\tpredictions=[]\n",
        "\tfor _ in range(n_examples):\n",
        "\t\tpredictions.append(model.predict(it[0]))\t\n",
        "\tpredict = np.array(predictions)\n",
        "\tsummed = np.sum(predict, axis=0)\n",
        "\tout = tf.argmax(summed, axis=-1)\n",
        "\treturn out"
      ],
      "execution_count": null,
      "outputs": []
    },
    {
      "cell_type": "code",
      "metadata": {
        "id": "S8cAEPpr_tBI"
      },
      "source": [
        "from sklearn.metrics import accuracy_score\n",
        "def tta_evaluate_model(model, testX, testY, datagen):\n",
        "\t# define the number of augmented images to generate per test set image\n",
        "\tn_examples_per_image = 5\n",
        "\tyhats = list()\n",
        "\tfor i in range(len(testX)):\n",
        "\t\t# make augmented prediction\n",
        "\t\tyhat = tta_prediction(datagen, model, testX[i], n_examples_per_image)\n",
        "\t\t# store for evaluation\n",
        "\t\tyhats.append(yhat)\n",
        "\t# calculate accuracy\n",
        "\ttestY_labels = np.argmax(testY, axis=1)\n",
        "\tacc = accuracy_score(testY_labels, yhats)\n",
        "\treturn acc"
      ],
      "execution_count": null,
      "outputs": []
    },
    {
      "cell_type": "markdown",
      "metadata": {
        "id": "bfGVW2_N_tBJ"
      },
      "source": [
        "### Prediction accuracy without TTA"
      ]
    },
    {
      "cell_type": "code",
      "metadata": {
        "id": "_HCK-mio_tBK",
        "outputId": "7d73fbd3-75ed-4a0b-dd3c-db9793fb3413"
      },
      "source": [
        "datagen = ImageDataGenerator(preprocessing_function=preprocess_input)\n",
        "accuracy_without_tta = tta_evaluate_model(model, X_test, y_test, datagen)\n",
        "print(accuracy_without_tta)"
      ],
      "execution_count": null,
      "outputs": [
        {
          "name": "stdout",
          "output_type": "stream",
          "text": [
            "0.8571428571428571\n"
          ]
        }
      ]
    },
    {
      "cell_type": "markdown",
      "metadata": {
        "id": "u8EEbBee_tBL"
      },
      "source": [
        "### Average predictions\n",
        "The final accuracy depends on the type of augmentations that were used. Therefore, the random seed was not set for transformations to make it possible the average the results."
      ]
    },
    {
      "cell_type": "code",
      "metadata": {
        "id": "OJi8Nj7E_tBM",
        "outputId": "d67386bc-5295-44c0-e362-cdf0970379c2"
      },
      "source": [
        "datagen = ImageDataGenerator(shear_range=0.1,\n",
        "       zoom_range=0.1,\n",
        "       horizontal_flip=True,\n",
        "       vertical_flip=True,\n",
        "       rotation_range=10.,\n",
        "       width_shift_range = 0.1,\n",
        "       height_shift_range = 0.1,\n",
        "       fill_mode='nearest',\n",
        "       preprocessing_function=preprocess_input)\n",
        "\n",
        "results = []\n",
        "num_of_accuracies = 10\n",
        "for _ in range(num_of_accuracies):\n",
        "    results.append(tta_evaluate_model(model, X_test, y_test, datagen))\n",
        "sum(results)/num_of_accuracies"
      ],
      "execution_count": null,
      "outputs": [
        {
          "data": {
            "text/plain": [
              "0.9342857142857144"
            ]
          },
          "execution_count": 12,
          "metadata": {},
          "output_type": "execute_result"
        }
      ]
    }
  ]
}